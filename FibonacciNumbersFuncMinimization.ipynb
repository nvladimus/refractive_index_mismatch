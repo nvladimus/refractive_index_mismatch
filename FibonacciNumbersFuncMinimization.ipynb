{
 "cells": [
  {
   "cell_type": "markdown",
   "metadata": {},
   "source": [
    "This is a Fibonacci search of a function minimum.\n",
    "\n",
    "Function `f(x)` must be unimodal, defined on interval `[a,b]`.\n",
    "\n",
    "The goal is to find a minimum $f(x_{opt})$ within `[a,b]` with a given error $\\epsilon $:\n",
    "\n",
    "$|x_{opt}-x_{min}| < \\epsilon $ from the true minimum $x_{min}$.\n",
    "\n",
    "[Source of inspiration](http://mathfaculty.fullerton.edu/mathews/n2003/FibonacciSearchMod.html)\n",
    "\n",
    "[Wolfram demo](http://demonstrations.wolfram.com/MinimumOfAFunctionUsingTheFibonacciSequence/)"
   ]
  },
  {
   "cell_type": "code",
   "execution_count": 1,
   "metadata": {},
   "outputs": [],
   "source": [
    "import numpy as np\n",
    "import matplotlib.pyplot as plt\n",
    "%matplotlib inline"
   ]
  },
  {
   "cell_type": "code",
   "execution_count": 2,
   "metadata": {},
   "outputs": [],
   "source": [
    "def f(x, center = 25):\n",
    "    return (x-center)**2"
   ]
  },
  {
   "cell_type": "code",
   "execution_count": 3,
   "metadata": {},
   "outputs": [],
   "source": [
    "def Fnumber(n):\n",
    "    return ((1+np.sqrt(5))**n - (1-np.sqrt(5))**n)/(2**n*np.sqrt(5))"
   ]
  },
  {
   "cell_type": "code",
   "execution_count": 4,
   "metadata": {},
   "outputs": [
    {
     "data": {
      "text/plain": [
       "array([ 0.,  1.,  1.,  2.,  3.,  5.,  8., 13., 21., 34.])"
      ]
     },
     "execution_count": 4,
     "metadata": {},
     "output_type": "execute_result"
    }
   ],
   "source": [
    "Fnumber(np.arange(10))"
   ]
  },
  {
   "cell_type": "code",
   "execution_count": 25,
   "metadata": {},
   "outputs": [
    {
     "name": "stdout",
     "output_type": "stream",
     "text": [
      "N(Fibonacci terms) = 7\n",
      "n(iterations) = 5\n"
     ]
    }
   ],
   "source": [
    "a = 0 #min of interval\n",
    "b = 60 #max of interval\n",
    "eps = 5 # error\n",
    "n_fib = 1\n",
    "while eps < (b-a)/Fnumber(n_fib) :\n",
    "    n_fib += 1\n",
    "\n",
    "n_iter_max = n_fib - 2\n",
    "print('N(Fibonacci terms) = ' +str(n_fib))\n",
    "print('n(iterations) = ' +str(n_iter_max))"
   ]
  },
  {
   "cell_type": "code",
   "execution_count": 26,
   "metadata": {},
   "outputs": [],
   "source": [
    "a_array = np.zeros(n_iter_max)\n",
    "b_array = np.zeros(n_iter_max)\n",
    "c_array = np.zeros(n_iter_max)\n",
    "d_array = np.zeros(n_iter_max)"
   ]
  },
  {
   "cell_type": "code",
   "execution_count": 27,
   "metadata": {},
   "outputs": [
    {
     "name": "stdout",
     "output_type": "stream",
     "text": [
      "[0 0 0 0 0]\n",
      "[23 13  0  0  0]\n",
      "[36 23  0  0  0]\n",
      "[60 36  0  0  0]\n"
     ]
    }
   ],
   "source": [
    "#first iter, k = 0, function f(x) is known in (a), (b)\n",
    "k = 0\n",
    "a_array[k] = a\n",
    "b_array[k] = b\n",
    "c_array[k] = a_array[k] + (b_array[k] - a_array[k])*(1 - Fnumber(n_fib - 1 - k)/Fnumber(n_fib - k))\n",
    "d_array[k] = a_array[k] + (b_array[k] - a_array[k])*Fnumber(n_fib - 1 - k)/Fnumber(n_fib - k)\n",
    "\n",
    "# two new function evaluations, (c) and (d)\n",
    "if f(c_array[k]) <= f(d_array[k]):\n",
    "    a_array[k+1] = a_array[k]\n",
    "    b_array[k+1] = d_array[k]\n",
    "else:\n",
    "    a_array[k+1] = c_array[k]\n",
    "    b_array[k+1] = b_array[k]\n",
    "k += 1\n",
    "\n",
    "#k=1\n",
    "c_array[k] = a_array[k] + (b_array[k] - a_array[k])*(1 - Fnumber(n_fib - 1 - k)/Fnumber(n_fib - k))\n",
    "d_array[k] = a_array[k] + (b_array[k] - a_array[k])*Fnumber(n_fib - 1 - k)/Fnumber(n_fib - k)\n",
    "\n",
    "print(a_array.astype(int))\n",
    "print(c_array.astype(int))\n",
    "print(d_array.astype(int))\n",
    "print(b_array.astype(int))"
   ]
  },
  {
   "cell_type": "code",
   "execution_count": 28,
   "metadata": {},
   "outputs": [
    {
     "name": "stdout",
     "output_type": "stream",
     "text": [
      "[ 0  0 13  0  0]\n",
      "[23 13 23  0  0]\n",
      "[36 23 27  0  0]\n",
      "[60 36 36  0  0]\n"
     ]
    }
   ],
   "source": [
    "# only one(!) new function estimate, in (c) OR (d), the other is re-used\n",
    "if f(c_array[k]) <= f(d_array[k]):\n",
    "    a_array[k+1] = a_array[k]\n",
    "    b_array[k+1] = d_array[k]\n",
    "else:\n",
    "    a_array[k+1] = c_array[k]\n",
    "    b_array[k+1] = b_array[k]\n",
    "k += 1\n",
    "c_array[k] = a_array[k] + (b_array[k] - a_array[k])*(1 - Fnumber(n_fib - 1 - k)/Fnumber(n_fib - k))\n",
    "d_array[k] = a_array[k] + (b_array[k] - a_array[k])*Fnumber(n_fib - 1 - k)/Fnumber(n_fib - k)\n",
    "\n",
    "print(a_array.astype(int))\n",
    "print(c_array.astype(int))\n",
    "print(d_array.astype(int))\n",
    "print(b_array.astype(int))"
   ]
  },
  {
   "cell_type": "code",
   "execution_count": 29,
   "metadata": {},
   "outputs": [
    {
     "name": "stdout",
     "output_type": "stream",
     "text": [
      "[ 0  0 13 13  0]\n",
      "[23 13 23 18  0]\n",
      "[36 23 27 23  0]\n",
      "[60 36 36 27  0]\n"
     ]
    }
   ],
   "source": [
    "# only one(!) new function estimate, in (c) OR (d), the other is re-used\n",
    "if f(c_array[k]) <= f(d_array[k]):\n",
    "    a_array[k+1] = a_array[k]\n",
    "    b_array[k+1] = d_array[k]\n",
    "else:\n",
    "    a_array[k+1] = c_array[k]\n",
    "    b_array[k+1] = b_array[k]\n",
    "k += 1\n",
    "\n",
    "c_array[k] = a_array[k] + (b_array[k] - a_array[k])*(1 - Fnumber(n_fib - 1 - k)/Fnumber(n_fib - k))\n",
    "d_array[k] = a_array[k] + (b_array[k] - a_array[k])*Fnumber(n_fib - 1 - k)/Fnumber(n_fib - k)\n",
    "\n",
    "print(a_array.astype(int))\n",
    "print(c_array.astype(int))\n",
    "print(d_array.astype(int))\n",
    "print(b_array.astype(int))"
   ]
  },
  {
   "cell_type": "code",
   "execution_count": 30,
   "metadata": {},
   "outputs": [
    {
     "name": "stdout",
     "output_type": "stream",
     "text": [
      "[ 0  0 13 13 18]\n",
      "[23 13 23 18 23]\n",
      "[36 23 27 23 23]\n",
      "[60 36 36 27 27]\n"
     ]
    }
   ],
   "source": [
    "# only one(!) new function estimate, in (c) OR (d), the other is re-used\n",
    "if f(c_array[k]) <= f(d_array[k]):\n",
    "    a_array[k+1] = a_array[k]\n",
    "    b_array[k+1] = d_array[k]\n",
    "else:\n",
    "    a_array[k+1] = c_array[k]\n",
    "    b_array[k+1] = b_array[k]\n",
    "k += 1\n",
    "\n",
    "c_array[k] = a_array[k] + (b_array[k] - a_array[k])*(1 - Fnumber(n_fib - 1 - k)/Fnumber(n_fib - k))\n",
    "d_array[k] = a_array[k] + (b_array[k] - a_array[k])*Fnumber(n_fib - 1 - k)/Fnumber(n_fib - k)\n",
    "\n",
    "print(a_array.astype(int))\n",
    "print(c_array.astype(int))\n",
    "print(d_array.astype(int))\n",
    "print(b_array.astype(int))"
   ]
  },
  {
   "cell_type": "markdown",
   "metadata": {},
   "source": [
    "So, total number of `f(x)` evaluations is 7. If the interval `[0,60]` were divided into sub-intervals of length 5, the number of func. evaluations would be 12."
   ]
  },
  {
   "cell_type": "code",
   "execution_count": null,
   "metadata": {},
   "outputs": [],
   "source": []
  }
 ],
 "metadata": {
  "kernelspec": {
   "display_name": "Python [conda env:py36]",
   "language": "python",
   "name": "conda-env-py36-py"
  },
  "language_info": {
   "codemirror_mode": {
    "name": "ipython",
    "version": 3
   },
   "file_extension": ".py",
   "mimetype": "text/x-python",
   "name": "python",
   "nbconvert_exporter": "python",
   "pygments_lexer": "ipython3",
   "version": "3.6.5"
  }
 },
 "nbformat": 4,
 "nbformat_minor": 2
}
